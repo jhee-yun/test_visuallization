{
  "nbformat": 4,
  "nbformat_minor": 0,
  "metadata": {
    "colab": {
      "name": "autompg_xgboost_service.ipynb",
      "provenance": [],
      "collapsed_sections": [],
      "authorship_tag": "ABX9TyNDbmbR/+yiiE18AtpXzS3P",
      "include_colab_link": true
    },
    "kernelspec": {
      "name": "python3",
      "display_name": "Python 3"
    },
    "language_info": {
      "name": "python"
    }
  },
  "cells": [
    {
      "cell_type": "markdown",
      "metadata": {
        "id": "view-in-github",
        "colab_type": "text"
      },
      "source": [
        "<a href=\"https://colab.research.google.com/github/jhee-yun/test_visuallization/blob/main/autompg_xgboost_service.ipynb\" target=\"_parent\"><img src=\"https://colab.research.google.com/assets/colab-badge.svg\" alt=\"Open In Colab\"/></a>"
      ]
    },
    {
      "cell_type": "code",
      "metadata": {
        "colab": {
          "base_uri": "https://localhost:8080/"
        },
        "id": "G72iEvOOmWap",
        "outputId": "ff3f3495-d506-4829-9cc3-2c351f05e6b0"
      },
      "source": [
        "!ls -l ./autompg_lr.pkl"
      ],
      "execution_count": 3,
      "outputs": [
        {
          "output_type": "stream",
          "text": [
            "ls: cannot access './autompg_lr.pkl': No such file or directory\n"
          ],
          "name": "stdout"
        }
      ]
    },
    {
      "cell_type": "markdown",
      "metadata": {
        "id": "1ldkBdEAnXxN"
      },
      "source": [
        "# load pickle with xgboost and scaler"
      ]
    },
    {
      "cell_type": "code",
      "metadata": {
        "colab": {
          "base_uri": "https://localhost:8080/"
        },
        "id": "RlbtXPCjmyM3",
        "outputId": "377ab039-6f1b-41bc-c5bc-4a02410a75cd"
      },
      "source": [
        "import pickle\n",
        "model = pickle.load(open('./xgb_model.pkl', 'rb'))\n",
        "type(model)"
      ],
      "execution_count": 4,
      "outputs": [
        {
          "output_type": "stream",
          "text": [
            "[00:15:43] WARNING: /workspace/src/objective/regression_obj.cu:152: reg:linear is now deprecated in favor of reg:squarederror.\n"
          ],
          "name": "stdout"
        },
        {
          "output_type": "execute_result",
          "data": {
            "text/plain": [
              "xgboost.sklearn.XGBRegressor"
            ]
          },
          "metadata": {
            "tags": []
          },
          "execution_count": 4
        }
      ]
    },
    {
      "cell_type": "code",
      "metadata": {
        "colab": {
          "base_uri": "https://localhost:8080/"
        },
        "id": "oRFvy0-rnNk8",
        "outputId": "8d78e370-f93f-4940-8d71-9be8c2318dad"
      },
      "source": [
        "scaler = pickle.load(open('./scaler_xgb.pkl','rb'))\n",
        "type(scaler)"
      ],
      "execution_count": 5,
      "outputs": [
        {
          "output_type": "execute_result",
          "data": {
            "text/plain": [
              "sklearn.preprocessing._data.StandardScaler"
            ]
          },
          "metadata": {
            "tags": []
          },
          "execution_count": 5
        }
      ]
    },
    {
      "cell_type": "markdown",
      "metadata": {
        "id": "-gyMsDGw_2hv"
      },
      "source": [
        "#Predinct with Linear Regression"
      ]
    },
    {
      "cell_type": "code",
      "metadata": {
        "id": "LFlfNg1QuZOy"
      },
      "source": [
        "displacement = 307.0\n",
        "horsepower = 130.0\n",
        "weight = 3504.0\n",
        "accel = 12.0\n",
        "cylinders = 8\n",
        "origin = 1\n",
        "\n",
        "if cylinders == 3:\n",
        "  cylinder = [1,0,0,0,0]\n",
        "elif cylinders == 4:\n",
        "  cylinder = [0,1,0,0,0]\n",
        "elif cylinders == 5:\n",
        "  cylinder = [0,0,1,0,0]\n",
        "elif cylinders == 6:\n",
        "  cylinder = [0,0,0,1,0]\n",
        "else :\n",
        "  cylinder = [0,0,0,0,1]\n",
        "\n",
        "if origin == 1:\n",
        "  org = [1,0,0]\n",
        "elif origin == 2:\n",
        "  org = [0,1,0]\n",
        "else :\n",
        "  org = [0,0,1]\n",
        "\n",
        "\n",
        "x_custmer = [[displacement, horsepower, weight, accel, cylinder, org]]\n",
        "#[[307.0,130.0,3504.0,12.0, 8, 1]]\n",
        "#->\n",
        "#[[307.0,130.0,3504.0,12.0, {0,0,0,0,1}, {1,0,0}]]\n",
        "#->\n",
        "#[[307.0,130.0,3504.0,12.0, 0,0,0,0,1, 1,0,0]]"
      ],
      "execution_count": 9,
      "outputs": []
    },
    {
      "cell_type": "code",
      "metadata": {
        "colab": {
          "base_uri": "https://localhost:8080/"
        },
        "id": "9XvqdUjQ742j",
        "outputId": "7ef4ab78-47b4-4ce5-9bb2-771a9648777d"
      },
      "source": [
        "x_custmer = scaler.transform([[307.0,130.0,3504.0,12.0,0,0,0,0,1,1,0,0]])\n",
        "x_custmer.shape"
      ],
      "execution_count": 10,
      "outputs": [
        {
          "output_type": "execute_result",
          "data": {
            "text/plain": [
              "(1, 12)"
            ]
          },
          "metadata": {
            "tags": []
          },
          "execution_count": 10
        }
      ]
    },
    {
      "cell_type": "code",
      "metadata": {
        "colab": {
          "base_uri": "https://localhost:8080/"
        },
        "id": "6qoN0XZ2-CkM",
        "outputId": "5ff09604-38df-4900-e05f-49fe717a68be"
      },
      "source": [
        "y_pred = model.predict(x_custmer)\n",
        "y_pred[0]"
      ],
      "execution_count": 11,
      "outputs": [
        {
          "output_type": "execute_result",
          "data": {
            "text/plain": [
              "15.633002"
            ]
          },
          "metadata": {
            "tags": []
          },
          "execution_count": 11
        }
      ]
    },
    {
      "cell_type": "code",
      "metadata": {
        "id": "03wipbUTE5c1"
      },
      "source": [
        ""
      ],
      "execution_count": null,
      "outputs": []
    }
  ]
}