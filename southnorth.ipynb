{
  "nbformat": 4,
  "nbformat_minor": 0,
  "metadata": {
    "colab": {
      "name": "Untitled2.ipynb",
      "provenance": [],
      "authorship_tag": "ABX9TyPRPbzygZ/SZq8+6ICHs61S",
      "include_colab_link": true
    },
    "kernelspec": {
      "name": "python3",
      "display_name": "Python 3"
    },
    "language_info": {
      "name": "python"
    }
  },
  "cells": [
    {
      "cell_type": "markdown",
      "metadata": {
        "id": "view-in-github",
        "colab_type": "text"
      },
      "source": [
        "<a href=\"https://colab.research.google.com/github/jhee-yun/test_visuallization/blob/main/southnorth.ipynb\" target=\"_parent\"><img src=\"https://colab.research.google.com/assets/colab-badge.svg\" alt=\"Open In Colab\"/></a>"
      ]
    },
    {
      "cell_type": "code",
      "metadata": {
        "id": "zlWhefHLcudY"
      },
      "source": [
        "import pandas as pd"
      ],
      "execution_count": 1,
      "outputs": []
    },
    {
      "cell_type": "code",
      "metadata": {
        "colab": {
          "base_uri": "https://localhost:8080/",
          "height": 637
        },
        "id": "3ZA6TIe3c9In",
        "outputId": "607be1f0-3411-4f80-a638-4c48cbffee7a"
      },
      "source": [
        "df = pd.read_excel('남북한발전전력량.xlsx')\n",
        "df"
      ],
      "execution_count": 3,
      "outputs": [
        {
          "output_type": "execute_result",
          "data": {
            "text/html": [
              "<div>\n",
              "<style scoped>\n",
              "    .dataframe tbody tr th:only-of-type {\n",
              "        vertical-align: middle;\n",
              "    }\n",
              "\n",
              "    .dataframe tbody tr th {\n",
              "        vertical-align: top;\n",
              "    }\n",
              "\n",
              "    .dataframe thead th {\n",
              "        text-align: right;\n",
              "    }\n",
              "</style>\n",
              "<table border=\"1\" class=\"dataframe\">\n",
              "  <thead>\n",
              "    <tr style=\"text-align: right;\">\n",
              "      <th></th>\n",
              "      <th>전력량 (억㎾h)</th>\n",
              "      <th>발전 전력별</th>\n",
              "      <th>1990</th>\n",
              "      <th>1991</th>\n",
              "      <th>1992</th>\n",
              "      <th>1993</th>\n",
              "      <th>1994</th>\n",
              "      <th>1995</th>\n",
              "      <th>1996</th>\n",
              "      <th>1997</th>\n",
              "      <th>1998</th>\n",
              "      <th>1999</th>\n",
              "      <th>2000</th>\n",
              "      <th>2001</th>\n",
              "      <th>2002</th>\n",
              "      <th>2003</th>\n",
              "      <th>2004</th>\n",
              "      <th>2005</th>\n",
              "      <th>2006</th>\n",
              "      <th>2007</th>\n",
              "      <th>2008</th>\n",
              "      <th>2009</th>\n",
              "      <th>2010</th>\n",
              "      <th>2011</th>\n",
              "      <th>2012</th>\n",
              "      <th>2013</th>\n",
              "      <th>2014</th>\n",
              "      <th>2015</th>\n",
              "      <th>2016</th>\n",
              "    </tr>\n",
              "  </thead>\n",
              "  <tbody>\n",
              "    <tr>\n",
              "      <th>0</th>\n",
              "      <td>남한</td>\n",
              "      <td>합계</td>\n",
              "      <td>1077</td>\n",
              "      <td>1186</td>\n",
              "      <td>1310</td>\n",
              "      <td>1444</td>\n",
              "      <td>1650</td>\n",
              "      <td>1847</td>\n",
              "      <td>2055</td>\n",
              "      <td>2244</td>\n",
              "      <td>2153</td>\n",
              "      <td>2393</td>\n",
              "      <td>2664</td>\n",
              "      <td>2852</td>\n",
              "      <td>3065</td>\n",
              "      <td>3225</td>\n",
              "      <td>3421</td>\n",
              "      <td>3646</td>\n",
              "      <td>3812</td>\n",
              "      <td>4031</td>\n",
              "      <td>4224</td>\n",
              "      <td>4336</td>\n",
              "      <td>4747</td>\n",
              "      <td>4969</td>\n",
              "      <td>5096</td>\n",
              "      <td>5171</td>\n",
              "      <td>5220</td>\n",
              "      <td>5281</td>\n",
              "      <td>5404</td>\n",
              "    </tr>\n",
              "    <tr>\n",
              "      <th>1</th>\n",
              "      <td>NaN</td>\n",
              "      <td>수력</td>\n",
              "      <td>64</td>\n",
              "      <td>51</td>\n",
              "      <td>49</td>\n",
              "      <td>60</td>\n",
              "      <td>41</td>\n",
              "      <td>55</td>\n",
              "      <td>52</td>\n",
              "      <td>54</td>\n",
              "      <td>61</td>\n",
              "      <td>61</td>\n",
              "      <td>56</td>\n",
              "      <td>42</td>\n",
              "      <td>53</td>\n",
              "      <td>69</td>\n",
              "      <td>59</td>\n",
              "      <td>52</td>\n",
              "      <td>52</td>\n",
              "      <td>50</td>\n",
              "      <td>56</td>\n",
              "      <td>56</td>\n",
              "      <td>65</td>\n",
              "      <td>78</td>\n",
              "      <td>77</td>\n",
              "      <td>84</td>\n",
              "      <td>78</td>\n",
              "      <td>58</td>\n",
              "      <td>66</td>\n",
              "    </tr>\n",
              "    <tr>\n",
              "      <th>2</th>\n",
              "      <td>NaN</td>\n",
              "      <td>화력</td>\n",
              "      <td>484</td>\n",
              "      <td>573</td>\n",
              "      <td>696</td>\n",
              "      <td>803</td>\n",
              "      <td>1022</td>\n",
              "      <td>1122</td>\n",
              "      <td>1264</td>\n",
              "      <td>1420</td>\n",
              "      <td>1195</td>\n",
              "      <td>1302</td>\n",
              "      <td>1518</td>\n",
              "      <td>1689</td>\n",
              "      <td>1821</td>\n",
              "      <td>1859</td>\n",
              "      <td>2056</td>\n",
              "      <td>2127</td>\n",
              "      <td>2272</td>\n",
              "      <td>2551</td>\n",
              "      <td>2658</td>\n",
              "      <td>2802</td>\n",
              "      <td>3196</td>\n",
              "      <td>3343</td>\n",
              "      <td>3430</td>\n",
              "      <td>3581</td>\n",
              "      <td>3427</td>\n",
              "      <td>3402</td>\n",
              "      <td>3523</td>\n",
              "    </tr>\n",
              "    <tr>\n",
              "      <th>3</th>\n",
              "      <td>NaN</td>\n",
              "      <td>원자력</td>\n",
              "      <td>529</td>\n",
              "      <td>563</td>\n",
              "      <td>565</td>\n",
              "      <td>581</td>\n",
              "      <td>587</td>\n",
              "      <td>670</td>\n",
              "      <td>739</td>\n",
              "      <td>771</td>\n",
              "      <td>897</td>\n",
              "      <td>1031</td>\n",
              "      <td>1090</td>\n",
              "      <td>1121</td>\n",
              "      <td>1191</td>\n",
              "      <td>1297</td>\n",
              "      <td>1307</td>\n",
              "      <td>1468</td>\n",
              "      <td>1487</td>\n",
              "      <td>1429</td>\n",
              "      <td>1510</td>\n",
              "      <td>1478</td>\n",
              "      <td>1486</td>\n",
              "      <td>1547</td>\n",
              "      <td>1503</td>\n",
              "      <td>1388</td>\n",
              "      <td>1564</td>\n",
              "      <td>1648</td>\n",
              "      <td>1620</td>\n",
              "    </tr>\n",
              "    <tr>\n",
              "      <th>4</th>\n",
              "      <td>NaN</td>\n",
              "      <td>신재생</td>\n",
              "      <td>-</td>\n",
              "      <td>-</td>\n",
              "      <td>-</td>\n",
              "      <td>-</td>\n",
              "      <td>-</td>\n",
              "      <td>-</td>\n",
              "      <td>-</td>\n",
              "      <td>-</td>\n",
              "      <td>-</td>\n",
              "      <td>-</td>\n",
              "      <td>-</td>\n",
              "      <td>-</td>\n",
              "      <td>-</td>\n",
              "      <td>-</td>\n",
              "      <td>-</td>\n",
              "      <td>-</td>\n",
              "      <td>-</td>\n",
              "      <td>-</td>\n",
              "      <td>-</td>\n",
              "      <td>-</td>\n",
              "      <td>-</td>\n",
              "      <td>-</td>\n",
              "      <td>86</td>\n",
              "      <td>118</td>\n",
              "      <td>151</td>\n",
              "      <td>173</td>\n",
              "      <td>195</td>\n",
              "    </tr>\n",
              "    <tr>\n",
              "      <th>5</th>\n",
              "      <td>북한</td>\n",
              "      <td>합계</td>\n",
              "      <td>277</td>\n",
              "      <td>263</td>\n",
              "      <td>247</td>\n",
              "      <td>221</td>\n",
              "      <td>231</td>\n",
              "      <td>230</td>\n",
              "      <td>213</td>\n",
              "      <td>193</td>\n",
              "      <td>170</td>\n",
              "      <td>186</td>\n",
              "      <td>194</td>\n",
              "      <td>202</td>\n",
              "      <td>190</td>\n",
              "      <td>196</td>\n",
              "      <td>206</td>\n",
              "      <td>215</td>\n",
              "      <td>225</td>\n",
              "      <td>236</td>\n",
              "      <td>255</td>\n",
              "      <td>235</td>\n",
              "      <td>237</td>\n",
              "      <td>211</td>\n",
              "      <td>215</td>\n",
              "      <td>221</td>\n",
              "      <td>216</td>\n",
              "      <td>190</td>\n",
              "      <td>239</td>\n",
              "    </tr>\n",
              "    <tr>\n",
              "      <th>6</th>\n",
              "      <td>NaN</td>\n",
              "      <td>수력</td>\n",
              "      <td>156</td>\n",
              "      <td>150</td>\n",
              "      <td>142</td>\n",
              "      <td>133</td>\n",
              "      <td>138</td>\n",
              "      <td>142</td>\n",
              "      <td>125</td>\n",
              "      <td>107</td>\n",
              "      <td>102</td>\n",
              "      <td>103</td>\n",
              "      <td>102</td>\n",
              "      <td>106</td>\n",
              "      <td>106</td>\n",
              "      <td>117</td>\n",
              "      <td>125</td>\n",
              "      <td>131</td>\n",
              "      <td>126</td>\n",
              "      <td>133</td>\n",
              "      <td>141</td>\n",
              "      <td>125</td>\n",
              "      <td>134</td>\n",
              "      <td>132</td>\n",
              "      <td>135</td>\n",
              "      <td>139</td>\n",
              "      <td>130</td>\n",
              "      <td>100</td>\n",
              "      <td>128</td>\n",
              "    </tr>\n",
              "    <tr>\n",
              "      <th>7</th>\n",
              "      <td>NaN</td>\n",
              "      <td>화력</td>\n",
              "      <td>121</td>\n",
              "      <td>113</td>\n",
              "      <td>105</td>\n",
              "      <td>88</td>\n",
              "      <td>93</td>\n",
              "      <td>88</td>\n",
              "      <td>88</td>\n",
              "      <td>86</td>\n",
              "      <td>68</td>\n",
              "      <td>83</td>\n",
              "      <td>92</td>\n",
              "      <td>96</td>\n",
              "      <td>84</td>\n",
              "      <td>79</td>\n",
              "      <td>81</td>\n",
              "      <td>84</td>\n",
              "      <td>99</td>\n",
              "      <td>103</td>\n",
              "      <td>114</td>\n",
              "      <td>110</td>\n",
              "      <td>103</td>\n",
              "      <td>79</td>\n",
              "      <td>80</td>\n",
              "      <td>82</td>\n",
              "      <td>86</td>\n",
              "      <td>90</td>\n",
              "      <td>111</td>\n",
              "    </tr>\n",
              "    <tr>\n",
              "      <th>8</th>\n",
              "      <td>NaN</td>\n",
              "      <td>원자력</td>\n",
              "      <td>-</td>\n",
              "      <td>-</td>\n",
              "      <td>-</td>\n",
              "      <td>-</td>\n",
              "      <td>-</td>\n",
              "      <td>-</td>\n",
              "      <td>-</td>\n",
              "      <td>-</td>\n",
              "      <td>-</td>\n",
              "      <td>-</td>\n",
              "      <td>-</td>\n",
              "      <td>-</td>\n",
              "      <td>-</td>\n",
              "      <td>-</td>\n",
              "      <td>-</td>\n",
              "      <td>-</td>\n",
              "      <td>-</td>\n",
              "      <td>-</td>\n",
              "      <td>-</td>\n",
              "      <td>-</td>\n",
              "      <td>-</td>\n",
              "      <td>-</td>\n",
              "      <td>-</td>\n",
              "      <td>-</td>\n",
              "      <td>-</td>\n",
              "      <td>-</td>\n",
              "      <td>-</td>\n",
              "    </tr>\n",
              "  </tbody>\n",
              "</table>\n",
              "</div>"
            ],
            "text/plain": [
              "  전력량 (억㎾h) 발전 전력별  1990  1991  1992  1993  ...  2011  2012  2013  2014  2015  2016\n",
              "0        남한     합계  1077  1186  1310  1444  ...  4969  5096  5171  5220  5281  5404\n",
              "1       NaN     수력    64    51    49    60  ...    78    77    84    78    58    66\n",
              "2       NaN     화력   484   573   696   803  ...  3343  3430  3581  3427  3402  3523\n",
              "3       NaN    원자력   529   563   565   581  ...  1547  1503  1388  1564  1648  1620\n",
              "4       NaN    신재생     -     -     -     -  ...     -    86   118   151   173   195\n",
              "5        북한     합계   277   263   247   221  ...   211   215   221   216   190   239\n",
              "6       NaN     수력   156   150   142   133  ...   132   135   139   130   100   128\n",
              "7       NaN     화력   121   113   105    88  ...    79    80    82    86    90   111\n",
              "8       NaN    원자력     -     -     -     -  ...     -     -     -     -     -     -\n",
              "\n",
              "[9 rows x 29 columns]"
            ]
          },
          "metadata": {
            "tags": []
          },
          "execution_count": 3
        }
      ]
    },
    {
      "cell_type": "code",
      "metadata": {
        "colab": {
          "base_uri": "https://localhost:8080/",
          "height": 298
        },
        "id": "WVR49tS9f4Vv",
        "outputId": "281bfd18-f622-4bd8-d6c5-450b2a55d95c"
      },
      "source": [
        "df.head(3)"
      ],
      "execution_count": 6,
      "outputs": [
        {
          "output_type": "execute_result",
          "data": {
            "text/html": [
              "<div>\n",
              "<style scoped>\n",
              "    .dataframe tbody tr th:only-of-type {\n",
              "        vertical-align: middle;\n",
              "    }\n",
              "\n",
              "    .dataframe tbody tr th {\n",
              "        vertical-align: top;\n",
              "    }\n",
              "\n",
              "    .dataframe thead th {\n",
              "        text-align: right;\n",
              "    }\n",
              "</style>\n",
              "<table border=\"1\" class=\"dataframe\">\n",
              "  <thead>\n",
              "    <tr style=\"text-align: right;\">\n",
              "      <th></th>\n",
              "      <th>전력량 (억㎾h)</th>\n",
              "      <th>발전 전력별</th>\n",
              "      <th>1990</th>\n",
              "      <th>1991</th>\n",
              "      <th>1992</th>\n",
              "      <th>1993</th>\n",
              "      <th>1994</th>\n",
              "      <th>1995</th>\n",
              "      <th>1996</th>\n",
              "      <th>1997</th>\n",
              "      <th>1998</th>\n",
              "      <th>1999</th>\n",
              "      <th>2000</th>\n",
              "      <th>2001</th>\n",
              "      <th>2002</th>\n",
              "      <th>2003</th>\n",
              "      <th>2004</th>\n",
              "      <th>2005</th>\n",
              "      <th>2006</th>\n",
              "      <th>2007</th>\n",
              "      <th>2008</th>\n",
              "      <th>2009</th>\n",
              "      <th>2010</th>\n",
              "      <th>2011</th>\n",
              "      <th>2012</th>\n",
              "      <th>2013</th>\n",
              "      <th>2014</th>\n",
              "      <th>2015</th>\n",
              "      <th>2016</th>\n",
              "    </tr>\n",
              "  </thead>\n",
              "  <tbody>\n",
              "    <tr>\n",
              "      <th>0</th>\n",
              "      <td>남한</td>\n",
              "      <td>합계</td>\n",
              "      <td>1077</td>\n",
              "      <td>1186</td>\n",
              "      <td>1310</td>\n",
              "      <td>1444</td>\n",
              "      <td>1650</td>\n",
              "      <td>1847</td>\n",
              "      <td>2055</td>\n",
              "      <td>2244</td>\n",
              "      <td>2153</td>\n",
              "      <td>2393</td>\n",
              "      <td>2664</td>\n",
              "      <td>2852</td>\n",
              "      <td>3065</td>\n",
              "      <td>3225</td>\n",
              "      <td>3421</td>\n",
              "      <td>3646</td>\n",
              "      <td>3812</td>\n",
              "      <td>4031</td>\n",
              "      <td>4224</td>\n",
              "      <td>4336</td>\n",
              "      <td>4747</td>\n",
              "      <td>4969</td>\n",
              "      <td>5096</td>\n",
              "      <td>5171</td>\n",
              "      <td>5220</td>\n",
              "      <td>5281</td>\n",
              "      <td>5404</td>\n",
              "    </tr>\n",
              "    <tr>\n",
              "      <th>1</th>\n",
              "      <td>NaN</td>\n",
              "      <td>수력</td>\n",
              "      <td>64</td>\n",
              "      <td>51</td>\n",
              "      <td>49</td>\n",
              "      <td>60</td>\n",
              "      <td>41</td>\n",
              "      <td>55</td>\n",
              "      <td>52</td>\n",
              "      <td>54</td>\n",
              "      <td>61</td>\n",
              "      <td>61</td>\n",
              "      <td>56</td>\n",
              "      <td>42</td>\n",
              "      <td>53</td>\n",
              "      <td>69</td>\n",
              "      <td>59</td>\n",
              "      <td>52</td>\n",
              "      <td>52</td>\n",
              "      <td>50</td>\n",
              "      <td>56</td>\n",
              "      <td>56</td>\n",
              "      <td>65</td>\n",
              "      <td>78</td>\n",
              "      <td>77</td>\n",
              "      <td>84</td>\n",
              "      <td>78</td>\n",
              "      <td>58</td>\n",
              "      <td>66</td>\n",
              "    </tr>\n",
              "    <tr>\n",
              "      <th>2</th>\n",
              "      <td>NaN</td>\n",
              "      <td>화력</td>\n",
              "      <td>484</td>\n",
              "      <td>573</td>\n",
              "      <td>696</td>\n",
              "      <td>803</td>\n",
              "      <td>1022</td>\n",
              "      <td>1122</td>\n",
              "      <td>1264</td>\n",
              "      <td>1420</td>\n",
              "      <td>1195</td>\n",
              "      <td>1302</td>\n",
              "      <td>1518</td>\n",
              "      <td>1689</td>\n",
              "      <td>1821</td>\n",
              "      <td>1859</td>\n",
              "      <td>2056</td>\n",
              "      <td>2127</td>\n",
              "      <td>2272</td>\n",
              "      <td>2551</td>\n",
              "      <td>2658</td>\n",
              "      <td>2802</td>\n",
              "      <td>3196</td>\n",
              "      <td>3343</td>\n",
              "      <td>3430</td>\n",
              "      <td>3581</td>\n",
              "      <td>3427</td>\n",
              "      <td>3402</td>\n",
              "      <td>3523</td>\n",
              "    </tr>\n",
              "  </tbody>\n",
              "</table>\n",
              "</div>"
            ],
            "text/plain": [
              "  전력량 (억㎾h) 발전 전력별  1990  1991  1992  1993  ...  2011  2012  2013  2014  2015  2016\n",
              "0        남한     합계  1077  1186  1310  1444  ...  4969  5096  5171  5220  5281  5404\n",
              "1       NaN     수력    64    51    49    60  ...    78    77    84    78    58    66\n",
              "2       NaN     화력   484   573   696   803  ...  3343  3430  3581  3427  3402  3523\n",
              "\n",
              "[3 rows x 29 columns]"
            ]
          },
          "metadata": {
            "tags": []
          },
          "execution_count": 6
        }
      ]
    },
    {
      "cell_type": "code",
      "metadata": {
        "colab": {
          "base_uri": "https://localhost:8080/",
          "height": 111
        },
        "id": "1aSya14LeDWY",
        "outputId": "35ac3b5d-7b22-4fc1-d64d-9e597df0dc45"
      },
      "source": [
        "df.iloc[0:2,0:2] #iloc는 numpy번호"
      ],
      "execution_count": 5,
      "outputs": [
        {
          "output_type": "execute_result",
          "data": {
            "text/html": [
              "<div>\n",
              "<style scoped>\n",
              "    .dataframe tbody tr th:only-of-type {\n",
              "        vertical-align: middle;\n",
              "    }\n",
              "\n",
              "    .dataframe tbody tr th {\n",
              "        vertical-align: top;\n",
              "    }\n",
              "\n",
              "    .dataframe thead th {\n",
              "        text-align: right;\n",
              "    }\n",
              "</style>\n",
              "<table border=\"1\" class=\"dataframe\">\n",
              "  <thead>\n",
              "    <tr style=\"text-align: right;\">\n",
              "      <th></th>\n",
              "      <th>전력량 (억㎾h)</th>\n",
              "      <th>발전 전력별</th>\n",
              "    </tr>\n",
              "  </thead>\n",
              "  <tbody>\n",
              "    <tr>\n",
              "      <th>0</th>\n",
              "      <td>남한</td>\n",
              "      <td>합계</td>\n",
              "    </tr>\n",
              "    <tr>\n",
              "      <th>1</th>\n",
              "      <td>NaN</td>\n",
              "      <td>수력</td>\n",
              "    </tr>\n",
              "  </tbody>\n",
              "</table>\n",
              "</div>"
            ],
            "text/plain": [
              "  전력량 (억㎾h) 발전 전력별\n",
              "0        남한     합계\n",
              "1       NaN     수력"
            ]
          },
          "metadata": {
            "tags": []
          },
          "execution_count": 5
        }
      ]
    },
    {
      "cell_type": "code",
      "metadata": {
        "id": "hLIw8BgudIV8"
      },
      "source": [
        "df_ns = df.iloc[[0,5],2:]"
      ],
      "execution_count": 12,
      "outputs": []
    },
    {
      "cell_type": "code",
      "metadata": {
        "colab": {
          "base_uri": "https://localhost:8080/",
          "height": 142
        },
        "id": "RjWM-kdDgr9R",
        "outputId": "d8a7b9fb-647f-4f91-d3ad-54c2030562a2"
      },
      "source": [
        "df.loc[0:2,'전력량 (억㎾h)':'발전 전력별'] #loc는 pandas에서 부여한 제일 왼쪽에 번호"
      ],
      "execution_count": 10,
      "outputs": [
        {
          "output_type": "execute_result",
          "data": {
            "text/html": [
              "<div>\n",
              "<style scoped>\n",
              "    .dataframe tbody tr th:only-of-type {\n",
              "        vertical-align: middle;\n",
              "    }\n",
              "\n",
              "    .dataframe tbody tr th {\n",
              "        vertical-align: top;\n",
              "    }\n",
              "\n",
              "    .dataframe thead th {\n",
              "        text-align: right;\n",
              "    }\n",
              "</style>\n",
              "<table border=\"1\" class=\"dataframe\">\n",
              "  <thead>\n",
              "    <tr style=\"text-align: right;\">\n",
              "      <th></th>\n",
              "      <th>전력량 (억㎾h)</th>\n",
              "      <th>발전 전력별</th>\n",
              "    </tr>\n",
              "  </thead>\n",
              "  <tbody>\n",
              "    <tr>\n",
              "      <th>0</th>\n",
              "      <td>남한</td>\n",
              "      <td>합계</td>\n",
              "    </tr>\n",
              "    <tr>\n",
              "      <th>1</th>\n",
              "      <td>NaN</td>\n",
              "      <td>수력</td>\n",
              "    </tr>\n",
              "    <tr>\n",
              "      <th>2</th>\n",
              "      <td>NaN</td>\n",
              "      <td>화력</td>\n",
              "    </tr>\n",
              "  </tbody>\n",
              "</table>\n",
              "</div>"
            ],
            "text/plain": [
              "  전력량 (억㎾h) 발전 전력별\n",
              "0        남한     합계\n",
              "1       NaN     수력\n",
              "2       NaN     화력"
            ]
          },
          "metadata": {
            "tags": []
          },
          "execution_count": 10
        }
      ]
    },
    {
      "cell_type": "code",
      "metadata": {
        "colab": {
          "base_uri": "https://localhost:8080/",
          "height": 131
        },
        "id": "O0gQdoqqhyO1",
        "outputId": "15361762-f671-4c5b-93ea-0a4b4700caa6"
      },
      "source": [
        "df.loc[[0,5],'1990':]"
      ],
      "execution_count": 11,
      "outputs": [
        {
          "output_type": "execute_result",
          "data": {
            "text/html": [
              "<div>\n",
              "<style scoped>\n",
              "    .dataframe tbody tr th:only-of-type {\n",
              "        vertical-align: middle;\n",
              "    }\n",
              "\n",
              "    .dataframe tbody tr th {\n",
              "        vertical-align: top;\n",
              "    }\n",
              "\n",
              "    .dataframe thead th {\n",
              "        text-align: right;\n",
              "    }\n",
              "</style>\n",
              "<table border=\"1\" class=\"dataframe\">\n",
              "  <thead>\n",
              "    <tr style=\"text-align: right;\">\n",
              "      <th></th>\n",
              "      <th>1990</th>\n",
              "      <th>1991</th>\n",
              "      <th>1992</th>\n",
              "      <th>1993</th>\n",
              "      <th>1994</th>\n",
              "      <th>1995</th>\n",
              "      <th>1996</th>\n",
              "      <th>1997</th>\n",
              "      <th>1998</th>\n",
              "      <th>1999</th>\n",
              "      <th>2000</th>\n",
              "      <th>2001</th>\n",
              "      <th>2002</th>\n",
              "      <th>2003</th>\n",
              "      <th>2004</th>\n",
              "      <th>2005</th>\n",
              "      <th>2006</th>\n",
              "      <th>2007</th>\n",
              "      <th>2008</th>\n",
              "      <th>2009</th>\n",
              "      <th>2010</th>\n",
              "      <th>2011</th>\n",
              "      <th>2012</th>\n",
              "      <th>2013</th>\n",
              "      <th>2014</th>\n",
              "      <th>2015</th>\n",
              "      <th>2016</th>\n",
              "    </tr>\n",
              "  </thead>\n",
              "  <tbody>\n",
              "    <tr>\n",
              "      <th>0</th>\n",
              "      <td>1077</td>\n",
              "      <td>1186</td>\n",
              "      <td>1310</td>\n",
              "      <td>1444</td>\n",
              "      <td>1650</td>\n",
              "      <td>1847</td>\n",
              "      <td>2055</td>\n",
              "      <td>2244</td>\n",
              "      <td>2153</td>\n",
              "      <td>2393</td>\n",
              "      <td>2664</td>\n",
              "      <td>2852</td>\n",
              "      <td>3065</td>\n",
              "      <td>3225</td>\n",
              "      <td>3421</td>\n",
              "      <td>3646</td>\n",
              "      <td>3812</td>\n",
              "      <td>4031</td>\n",
              "      <td>4224</td>\n",
              "      <td>4336</td>\n",
              "      <td>4747</td>\n",
              "      <td>4969</td>\n",
              "      <td>5096</td>\n",
              "      <td>5171</td>\n",
              "      <td>5220</td>\n",
              "      <td>5281</td>\n",
              "      <td>5404</td>\n",
              "    </tr>\n",
              "    <tr>\n",
              "      <th>5</th>\n",
              "      <td>277</td>\n",
              "      <td>263</td>\n",
              "      <td>247</td>\n",
              "      <td>221</td>\n",
              "      <td>231</td>\n",
              "      <td>230</td>\n",
              "      <td>213</td>\n",
              "      <td>193</td>\n",
              "      <td>170</td>\n",
              "      <td>186</td>\n",
              "      <td>194</td>\n",
              "      <td>202</td>\n",
              "      <td>190</td>\n",
              "      <td>196</td>\n",
              "      <td>206</td>\n",
              "      <td>215</td>\n",
              "      <td>225</td>\n",
              "      <td>236</td>\n",
              "      <td>255</td>\n",
              "      <td>235</td>\n",
              "      <td>237</td>\n",
              "      <td>211</td>\n",
              "      <td>215</td>\n",
              "      <td>221</td>\n",
              "      <td>216</td>\n",
              "      <td>190</td>\n",
              "      <td>239</td>\n",
              "    </tr>\n",
              "  </tbody>\n",
              "</table>\n",
              "</div>"
            ],
            "text/plain": [
              "   1990  1991  1992  1993  1994  1995  ...  2011  2012  2013  2014  2015  2016\n",
              "0  1077  1186  1310  1444  1650  1847  ...  4969  5096  5171  5220  5281  5404\n",
              "5   277   263   247   221   231   230  ...   211   215   221   216   190   239\n",
              "\n",
              "[2 rows x 27 columns]"
            ]
          },
          "metadata": {
            "tags": []
          },
          "execution_count": 11
        }
      ]
    },
    {
      "cell_type": "code",
      "metadata": {
        "colab": {
          "base_uri": "https://localhost:8080/",
          "height": 131
        },
        "id": "La5713ExjoOR",
        "outputId": "ca1329c6-4ac5-486e-bba8-df60bb5ccd32"
      },
      "source": [
        "df_ns"
      ],
      "execution_count": 13,
      "outputs": [
        {
          "output_type": "execute_result",
          "data": {
            "text/html": [
              "<div>\n",
              "<style scoped>\n",
              "    .dataframe tbody tr th:only-of-type {\n",
              "        vertical-align: middle;\n",
              "    }\n",
              "\n",
              "    .dataframe tbody tr th {\n",
              "        vertical-align: top;\n",
              "    }\n",
              "\n",
              "    .dataframe thead th {\n",
              "        text-align: right;\n",
              "    }\n",
              "</style>\n",
              "<table border=\"1\" class=\"dataframe\">\n",
              "  <thead>\n",
              "    <tr style=\"text-align: right;\">\n",
              "      <th></th>\n",
              "      <th>1990</th>\n",
              "      <th>1991</th>\n",
              "      <th>1992</th>\n",
              "      <th>1993</th>\n",
              "      <th>1994</th>\n",
              "      <th>1995</th>\n",
              "      <th>1996</th>\n",
              "      <th>1997</th>\n",
              "      <th>1998</th>\n",
              "      <th>1999</th>\n",
              "      <th>2000</th>\n",
              "      <th>2001</th>\n",
              "      <th>2002</th>\n",
              "      <th>2003</th>\n",
              "      <th>2004</th>\n",
              "      <th>2005</th>\n",
              "      <th>2006</th>\n",
              "      <th>2007</th>\n",
              "      <th>2008</th>\n",
              "      <th>2009</th>\n",
              "      <th>2010</th>\n",
              "      <th>2011</th>\n",
              "      <th>2012</th>\n",
              "      <th>2013</th>\n",
              "      <th>2014</th>\n",
              "      <th>2015</th>\n",
              "      <th>2016</th>\n",
              "    </tr>\n",
              "  </thead>\n",
              "  <tbody>\n",
              "    <tr>\n",
              "      <th>0</th>\n",
              "      <td>1077</td>\n",
              "      <td>1186</td>\n",
              "      <td>1310</td>\n",
              "      <td>1444</td>\n",
              "      <td>1650</td>\n",
              "      <td>1847</td>\n",
              "      <td>2055</td>\n",
              "      <td>2244</td>\n",
              "      <td>2153</td>\n",
              "      <td>2393</td>\n",
              "      <td>2664</td>\n",
              "      <td>2852</td>\n",
              "      <td>3065</td>\n",
              "      <td>3225</td>\n",
              "      <td>3421</td>\n",
              "      <td>3646</td>\n",
              "      <td>3812</td>\n",
              "      <td>4031</td>\n",
              "      <td>4224</td>\n",
              "      <td>4336</td>\n",
              "      <td>4747</td>\n",
              "      <td>4969</td>\n",
              "      <td>5096</td>\n",
              "      <td>5171</td>\n",
              "      <td>5220</td>\n",
              "      <td>5281</td>\n",
              "      <td>5404</td>\n",
              "    </tr>\n",
              "    <tr>\n",
              "      <th>5</th>\n",
              "      <td>277</td>\n",
              "      <td>263</td>\n",
              "      <td>247</td>\n",
              "      <td>221</td>\n",
              "      <td>231</td>\n",
              "      <td>230</td>\n",
              "      <td>213</td>\n",
              "      <td>193</td>\n",
              "      <td>170</td>\n",
              "      <td>186</td>\n",
              "      <td>194</td>\n",
              "      <td>202</td>\n",
              "      <td>190</td>\n",
              "      <td>196</td>\n",
              "      <td>206</td>\n",
              "      <td>215</td>\n",
              "      <td>225</td>\n",
              "      <td>236</td>\n",
              "      <td>255</td>\n",
              "      <td>235</td>\n",
              "      <td>237</td>\n",
              "      <td>211</td>\n",
              "      <td>215</td>\n",
              "      <td>221</td>\n",
              "      <td>216</td>\n",
              "      <td>190</td>\n",
              "      <td>239</td>\n",
              "    </tr>\n",
              "  </tbody>\n",
              "</table>\n",
              "</div>"
            ],
            "text/plain": [
              "   1990  1991  1992  1993  1994  1995  ...  2011  2012  2013  2014  2015  2016\n",
              "0  1077  1186  1310  1444  1650  1847  ...  4969  5096  5171  5220  5281  5404\n",
              "5   277   263   247   221   231   230  ...   211   215   221   216   190   239\n",
              "\n",
              "[2 rows x 27 columns]"
            ]
          },
          "metadata": {
            "tags": []
          },
          "execution_count": 13
        }
      ]
    },
    {
      "cell_type": "code",
      "metadata": {
        "id": "IqxjFi3FkELL"
      },
      "source": [
        "df.columns = [, , , , , ]"
      ],
      "execution_count": null,
      "outputs": []
    },
    {
      "cell_type": "code",
      "metadata": {
        "colab": {
          "base_uri": "https://localhost:8080/",
          "height": 131
        },
        "id": "9DLLGBsWjwWu",
        "outputId": "35dedf5b-c656-4f6b-9204-354e0144b224"
      },
      "source": [
        "df_ns.index = ['South','North']\n",
        "df_ns"
      ],
      "execution_count": 14,
      "outputs": [
        {
          "output_type": "execute_result",
          "data": {
            "text/html": [
              "<div>\n",
              "<style scoped>\n",
              "    .dataframe tbody tr th:only-of-type {\n",
              "        vertical-align: middle;\n",
              "    }\n",
              "\n",
              "    .dataframe tbody tr th {\n",
              "        vertical-align: top;\n",
              "    }\n",
              "\n",
              "    .dataframe thead th {\n",
              "        text-align: right;\n",
              "    }\n",
              "</style>\n",
              "<table border=\"1\" class=\"dataframe\">\n",
              "  <thead>\n",
              "    <tr style=\"text-align: right;\">\n",
              "      <th></th>\n",
              "      <th>1990</th>\n",
              "      <th>1991</th>\n",
              "      <th>1992</th>\n",
              "      <th>1993</th>\n",
              "      <th>1994</th>\n",
              "      <th>1995</th>\n",
              "      <th>1996</th>\n",
              "      <th>1997</th>\n",
              "      <th>1998</th>\n",
              "      <th>1999</th>\n",
              "      <th>2000</th>\n",
              "      <th>2001</th>\n",
              "      <th>2002</th>\n",
              "      <th>2003</th>\n",
              "      <th>2004</th>\n",
              "      <th>2005</th>\n",
              "      <th>2006</th>\n",
              "      <th>2007</th>\n",
              "      <th>2008</th>\n",
              "      <th>2009</th>\n",
              "      <th>2010</th>\n",
              "      <th>2011</th>\n",
              "      <th>2012</th>\n",
              "      <th>2013</th>\n",
              "      <th>2014</th>\n",
              "      <th>2015</th>\n",
              "      <th>2016</th>\n",
              "    </tr>\n",
              "  </thead>\n",
              "  <tbody>\n",
              "    <tr>\n",
              "      <th>South</th>\n",
              "      <td>1077</td>\n",
              "      <td>1186</td>\n",
              "      <td>1310</td>\n",
              "      <td>1444</td>\n",
              "      <td>1650</td>\n",
              "      <td>1847</td>\n",
              "      <td>2055</td>\n",
              "      <td>2244</td>\n",
              "      <td>2153</td>\n",
              "      <td>2393</td>\n",
              "      <td>2664</td>\n",
              "      <td>2852</td>\n",
              "      <td>3065</td>\n",
              "      <td>3225</td>\n",
              "      <td>3421</td>\n",
              "      <td>3646</td>\n",
              "      <td>3812</td>\n",
              "      <td>4031</td>\n",
              "      <td>4224</td>\n",
              "      <td>4336</td>\n",
              "      <td>4747</td>\n",
              "      <td>4969</td>\n",
              "      <td>5096</td>\n",
              "      <td>5171</td>\n",
              "      <td>5220</td>\n",
              "      <td>5281</td>\n",
              "      <td>5404</td>\n",
              "    </tr>\n",
              "    <tr>\n",
              "      <th>North</th>\n",
              "      <td>277</td>\n",
              "      <td>263</td>\n",
              "      <td>247</td>\n",
              "      <td>221</td>\n",
              "      <td>231</td>\n",
              "      <td>230</td>\n",
              "      <td>213</td>\n",
              "      <td>193</td>\n",
              "      <td>170</td>\n",
              "      <td>186</td>\n",
              "      <td>194</td>\n",
              "      <td>202</td>\n",
              "      <td>190</td>\n",
              "      <td>196</td>\n",
              "      <td>206</td>\n",
              "      <td>215</td>\n",
              "      <td>225</td>\n",
              "      <td>236</td>\n",
              "      <td>255</td>\n",
              "      <td>235</td>\n",
              "      <td>237</td>\n",
              "      <td>211</td>\n",
              "      <td>215</td>\n",
              "      <td>221</td>\n",
              "      <td>216</td>\n",
              "      <td>190</td>\n",
              "      <td>239</td>\n",
              "    </tr>\n",
              "  </tbody>\n",
              "</table>\n",
              "</div>"
            ],
            "text/plain": [
              "       1990  1991  1992  1993  1994  1995  ...  2011  2012  2013  2014  2015  2016\n",
              "South  1077  1186  1310  1444  1650  1847  ...  4969  5096  5171  5220  5281  5404\n",
              "North   277   263   247   221   231   230  ...   211   215   221   216   190   239\n",
              "\n",
              "[2 rows x 27 columns]"
            ]
          },
          "metadata": {
            "tags": []
          },
          "execution_count": 14
        }
      ]
    },
    {
      "cell_type": "code",
      "metadata": {
        "id": "ACJoBzZ8kars"
      },
      "source": [
        "df_ns = df_ns.transpose()"
      ],
      "execution_count": 17,
      "outputs": []
    },
    {
      "cell_type": "code",
      "metadata": {
        "colab": {
          "base_uri": "https://localhost:8080/",
          "height": 283
        },
        "id": "E4Mr_Ly8ktur",
        "outputId": "005f2d8f-95f5-4e42-c54c-fae6423c072e"
      },
      "source": [
        "df_ns.plot()"
      ],
      "execution_count": 18,
      "outputs": [
        {
          "output_type": "execute_result",
          "data": {
            "text/plain": [
              "<matplotlib.axes._subplots.AxesSubplot at 0x7f888c1b94d0>"
            ]
          },
          "metadata": {
            "tags": []
          },
          "execution_count": 18
        },
        {
          "output_type": "display_data",
          "data": {
            "image/png": "[encoded data removed]",
            "text/plain": [
              "<Figure size 432x288 with 1 Axes>"
            ]
          },
          "metadata": {
            "tags": [],
            "needs_background": "light"
          }
        }
      ]
    },
    {
      "cell_type": "code",
      "metadata": {
        "colab": {
          "base_uri": "https://localhost:8080/"
        },
        "id": "OFCVVZnx4YWM",
        "outputId": "bdb1a6a0-aa19-41f4-ac76-17aca303b9a1"
      },
      "source": [
        "type(df_ns)"
      ],
      "execution_count": 19,
      "outputs": [
        {
          "output_type": "execute_result",
          "data": {
            "text/plain": [
              "pandas.core.frame.DataFrame"
            ]
          },
          "metadata": {
            "tags": []
          },
          "execution_count": 19
        }
      ]
    },
    {
      "cell_type": "code",
      "metadata": {
        "colab": {
          "base_uri": "https://localhost:8080/",
          "height": 299
        },
        "id": "6CoXTATO7FTf",
        "outputId": "5a4cf7b4-7ceb-4af7-e321-77b4823b012a"
      },
      "source": [
        "df_ns.plot(kind='bar')"
      ],
      "execution_count": 24,
      "outputs": [
        {
          "output_type": "execute_result",
          "data": {
            "text/plain": [
              "<matplotlib.axes._subplots.AxesSubplot at 0x7f888adf8a10>"
            ]
          },
          "metadata": {
            "tags": []
          },
          "execution_count": 24
        },
        {
          "output_type": "display_data",
          "data": {
            "image/png": "[encoded data removed]",
            "text/plain": [
              "<Figure size 432x288 with 1 Axes>"
            ]
          },
          "metadata": {
            "tags": [],
            "needs_background": "light"
          }
        }
      ]
    },
    {
      "cell_type": "code",
      "metadata": {
        "colab": {
          "base_uri": "https://localhost:8080/",
          "height": 283
        },
        "id": "Og43J0qb_UCq",
        "outputId": "e266cc05-f5d1-42b7-f3db-7f6290092c1c"
      },
      "source": [
        "df_ns.plot(kind='barh')"
      ],
      "execution_count": 25,
      "outputs": [
        {
          "output_type": "execute_result",
          "data": {
            "text/plain": [
              "<matplotlib.axes._subplots.AxesSubplot at 0x7f888adf1910>"
            ]
          },
          "metadata": {
            "tags": []
          },
          "execution_count": 25
        },
        {
          "output_type": "display_data",
          "data": {
            "image/png": "[encoded data removed]",
            "text/plain": [
              "<Figure size 432x288 with 1 Axes>"
            ]
          },
          "metadata": {
            "tags": [],
            "needs_background": "light"
          }
        }
      ]
    },
    {
      "cell_type": "code",
      "metadata": {
        "colab": {
          "base_uri": "https://localhost:8080/",
          "height": 283
        },
        "id": "FsnD43KF_jqw",
        "outputId": "bd2a03e7-066c-4e16-d125-c8b57c86f2b4"
      },
      "source": [
        "df_ns.plot(kind='hist')"
      ],
      "execution_count": 26,
      "outputs": [
        {
          "output_type": "execute_result",
          "data": {
            "text/plain": [
              "<matplotlib.axes._subplots.AxesSubplot at 0x7f888acda810>"
            ]
          },
          "metadata": {
            "tags": []
          },
          "execution_count": 26
        },
        {
          "output_type": "display_data",
          "data": {
            "image/png": "[encoded data removed]",
            "text/plain": [
              "<Figure size 432x288 with 1 Axes>"
            ]
          },
          "metadata": {
            "tags": [],
            "needs_background": "light"
          }
        }
      ]
    },
    {
      "cell_type": "code",
      "metadata": {
        "colab": {
          "base_uri": "https://localhost:8080/",
          "height": 283
        },
        "id": "HPV5c2fb_lq2",
        "outputId": "935afe49-2b0e-49c9-e599-160577bdd2fc"
      },
      "source": [
        "df_ns.plot(kind='box')"
      ],
      "execution_count": 27,
      "outputs": [
        {
          "output_type": "execute_result",
          "data": {
            "text/plain": [
              "<matplotlib.axes._subplots.AxesSubplot at 0x7f888ab0f450>"
            ]
          },
          "metadata": {
            "tags": []
          },
          "execution_count": 27
        },
        {
          "output_type": "display_data",
          "data": {
            "image/png": "[encoded data removed]",
            "text/plain": [
              "<Figure size 432x288 with 1 Axes>"
            ]
          },
          "metadata": {
            "tags": [],
            "needs_background": "light"
          }
        }
      ]
    },
    {
      "cell_type": "code",
      "metadata": {
        "colab": {
          "base_uri": "https://localhost:8080/",
          "height": 283
        },
        "id": "GTzwDEyD_myC",
        "outputId": "772d684d-48ff-4e12-8959-47c6b8ea2708"
      },
      "source": [
        "df_ns.plot(kind='kde')"
      ],
      "execution_count": 28,
      "outputs": [
        {
          "output_type": "execute_result",
          "data": {
            "text/plain": [
              "<matplotlib.axes._subplots.AxesSubplot at 0x7f888aa58290>"
            ]
          },
          "metadata": {
            "tags": []
          },
          "execution_count": 28
        },
        {
          "output_type": "display_data",
          "data": {
            "image/png": "[encoded data removed]",
            "text/plain": [
              "<Figure size 432x288 with 1 Axes>"
            ]
          },
          "metadata": {
            "tags": [],
            "needs_background": "light"
          }
        }
      ]
    },
    {
      "cell_type": "code",
      "metadata": {
        "colab": {
          "base_uri": "https://localhost:8080/",
          "height": 283
        },
        "id": "RCY-tcpv_pr-",
        "outputId": "45d39a23-24b1-444b-ca70-840bb8f6b6a1"
      },
      "source": [
        "df_ns.plot(kind='density')"
      ],
      "execution_count": 29,
      "outputs": [
        {
          "output_type": "execute_result",
          "data": {
            "text/plain": [
              "<matplotlib.axes._subplots.AxesSubplot at 0x7f887a89d050>"
            ]
          },
          "metadata": {
            "tags": []
          },
          "execution_count": 29
        },
        {
          "output_type": "display_data",
          "data": {
            "image/png": "[encoded data removed]",
            "text/plain": [
              "<Figure size 432x288 with 1 Axes>"
            ]
          },
          "metadata": {
            "tags": [],
            "needs_background": "light"
          }
        }
      ]
    },
    {
      "cell_type": "code",
      "metadata": {
        "colab": {
          "base_uri": "https://localhost:8080/",
          "height": 283
        },
        "id": "a6n68q_A_u1G",
        "outputId": "771a65da-792b-4599-f86d-53e5bc041f64"
      },
      "source": [
        "df_ns.plot(kind='area')"
      ],
      "execution_count": 30,
      "outputs": [
        {
          "output_type": "execute_result",
          "data": {
            "text/plain": [
              "<matplotlib.axes._subplots.AxesSubplot at 0x7f887a824fd0>"
            ]
          },
          "metadata": {
            "tags": []
          },
          "execution_count": 30
        },
        {
          "output_type": "display_data",
          "data": {
            "image/png": "[encoded data removed]",
            "text/plain": [
              "<Figure size 432x288 with 1 Axes>"
            ]
          },
          "metadata": {
            "tags": [],
            "needs_background": "light"
          }
        }
      ]
    },
    {
      "cell_type": "code",
      "metadata": {
        "colab": {
          "base_uri": "https://localhost:8080/",
          "height": 131
        },
        "id": "MdJJTApv_w6_",
        "outputId": "20e7b47f-9138-4222-b61b-1ceec0a9585c"
      },
      "source": [
        "df_fire = df.loc[[2,7],'2000':'2016']\n",
        "df_fire.index = ['South','North']\n",
        "df_fire"
      ],
      "execution_count": 35,
      "outputs": [
        {
          "output_type": "execute_result",
          "data": {
            "text/html": [
              "<div>\n",
              "<style scoped>\n",
              "    .dataframe tbody tr th:only-of-type {\n",
              "        vertical-align: middle;\n",
              "    }\n",
              "\n",
              "    .dataframe tbody tr th {\n",
              "        vertical-align: top;\n",
              "    }\n",
              "\n",
              "    .dataframe thead th {\n",
              "        text-align: right;\n",
              "    }\n",
              "</style>\n",
              "<table border=\"1\" class=\"dataframe\">\n",
              "  <thead>\n",
              "    <tr style=\"text-align: right;\">\n",
              "      <th></th>\n",
              "      <th>2000</th>\n",
              "      <th>2001</th>\n",
              "      <th>2002</th>\n",
              "      <th>2003</th>\n",
              "      <th>2004</th>\n",
              "      <th>2005</th>\n",
              "      <th>2006</th>\n",
              "      <th>2007</th>\n",
              "      <th>2008</th>\n",
              "      <th>2009</th>\n",
              "      <th>2010</th>\n",
              "      <th>2011</th>\n",
              "      <th>2012</th>\n",
              "      <th>2013</th>\n",
              "      <th>2014</th>\n",
              "      <th>2015</th>\n",
              "      <th>2016</th>\n",
              "    </tr>\n",
              "  </thead>\n",
              "  <tbody>\n",
              "    <tr>\n",
              "      <th>South</th>\n",
              "      <td>1518</td>\n",
              "      <td>1689</td>\n",
              "      <td>1821</td>\n",
              "      <td>1859</td>\n",
              "      <td>2056</td>\n",
              "      <td>2127</td>\n",
              "      <td>2272</td>\n",
              "      <td>2551</td>\n",
              "      <td>2658</td>\n",
              "      <td>2802</td>\n",
              "      <td>3196</td>\n",
              "      <td>3343</td>\n",
              "      <td>3430</td>\n",
              "      <td>3581</td>\n",
              "      <td>3427</td>\n",
              "      <td>3402</td>\n",
              "      <td>3523</td>\n",
              "    </tr>\n",
              "    <tr>\n",
              "      <th>North</th>\n",
              "      <td>92</td>\n",
              "      <td>96</td>\n",
              "      <td>84</td>\n",
              "      <td>79</td>\n",
              "      <td>81</td>\n",
              "      <td>84</td>\n",
              "      <td>99</td>\n",
              "      <td>103</td>\n",
              "      <td>114</td>\n",
              "      <td>110</td>\n",
              "      <td>103</td>\n",
              "      <td>79</td>\n",
              "      <td>80</td>\n",
              "      <td>82</td>\n",
              "      <td>86</td>\n",
              "      <td>90</td>\n",
              "      <td>111</td>\n",
              "    </tr>\n",
              "  </tbody>\n",
              "</table>\n",
              "</div>"
            ],
            "text/plain": [
              "       2000  2001  2002  2003  2004  2005  ...  2011  2012  2013  2014  2015  2016\n",
              "South  1518  1689  1821  1859  2056  2127  ...  3343  3430  3581  3427  3402  3523\n",
              "North    92    96    84    79    81    84  ...    79    80    82    86    90   111\n",
              "\n",
              "[2 rows x 17 columns]"
            ]
          },
          "metadata": {
            "tags": []
          },
          "execution_count": 35
        }
      ]
    },
    {
      "cell_type": "code",
      "metadata": {
        "id": "MqKakU3gELWi"
      },
      "source": [
        "df_fire = df_fire.transpose()"
      ],
      "execution_count": 36,
      "outputs": []
    },
    {
      "cell_type": "code",
      "metadata": {
        "colab": {
          "base_uri": "https://localhost:8080/",
          "height": 283
        },
        "id": "adZbwDmVEASG",
        "outputId": "85ce7b7a-a0f8-4111-fd2b-aad2d73623c6"
      },
      "source": [
        "df_fire.plot()"
      ],
      "execution_count": 37,
      "outputs": [
        {
          "output_type": "execute_result",
          "data": {
            "text/plain": [
              "<matplotlib.axes._subplots.AxesSubplot at 0x7f8879346490>"
            ]
          },
          "metadata": {
            "tags": []
          },
          "execution_count": 37
        },
        {
          "output_type": "display_data",
          "data": {
            "image/png": "[encoded data removed]",
            "text/plain": [
              "<Figure size 432x288 with 1 Axes>"
            ]
          },
          "metadata": {
            "tags": [],
            "needs_background": "light"
          }
        }
      ]
    },
    {
      "cell_type": "code",
      "metadata": {
        "colab": {
          "base_uri": "https://localhost:8080/",
          "height": 131
        },
        "id": "Zl9k4CY9EKlN",
        "outputId": "e73c1201-2456-477a-f783-42848952827e"
      },
      "source": [
        "df_water = df.loc[[1,6],'1990':'2014']\n",
        "df_water.index = ['South','North']\n",
        "df_water"
      ],
      "execution_count": 38,
      "outputs": [
        {
          "output_type": "execute_result",
          "data": {
            "text/html": [
              "<div>\n",
              "<style scoped>\n",
              "    .dataframe tbody tr th:only-of-type {\n",
              "        vertical-align: middle;\n",
              "    }\n",
              "\n",
              "    .dataframe tbody tr th {\n",
              "        vertical-align: top;\n",
              "    }\n",
              "\n",
              "    .dataframe thead th {\n",
              "        text-align: right;\n",
              "    }\n",
              "</style>\n",
              "<table border=\"1\" class=\"dataframe\">\n",
              "  <thead>\n",
              "    <tr style=\"text-align: right;\">\n",
              "      <th></th>\n",
              "      <th>1990</th>\n",
              "      <th>1991</th>\n",
              "      <th>1992</th>\n",
              "      <th>1993</th>\n",
              "      <th>1994</th>\n",
              "      <th>1995</th>\n",
              "      <th>1996</th>\n",
              "      <th>1997</th>\n",
              "      <th>1998</th>\n",
              "      <th>1999</th>\n",
              "      <th>2000</th>\n",
              "      <th>2001</th>\n",
              "      <th>2002</th>\n",
              "      <th>2003</th>\n",
              "      <th>2004</th>\n",
              "      <th>2005</th>\n",
              "      <th>2006</th>\n",
              "      <th>2007</th>\n",
              "      <th>2008</th>\n",
              "      <th>2009</th>\n",
              "      <th>2010</th>\n",
              "      <th>2011</th>\n",
              "      <th>2012</th>\n",
              "      <th>2013</th>\n",
              "      <th>2014</th>\n",
              "    </tr>\n",
              "  </thead>\n",
              "  <tbody>\n",
              "    <tr>\n",
              "      <th>South</th>\n",
              "      <td>64</td>\n",
              "      <td>51</td>\n",
              "      <td>49</td>\n",
              "      <td>60</td>\n",
              "      <td>41</td>\n",
              "      <td>55</td>\n",
              "      <td>52</td>\n",
              "      <td>54</td>\n",
              "      <td>61</td>\n",
              "      <td>61</td>\n",
              "      <td>56</td>\n",
              "      <td>42</td>\n",
              "      <td>53</td>\n",
              "      <td>69</td>\n",
              "      <td>59</td>\n",
              "      <td>52</td>\n",
              "      <td>52</td>\n",
              "      <td>50</td>\n",
              "      <td>56</td>\n",
              "      <td>56</td>\n",
              "      <td>65</td>\n",
              "      <td>78</td>\n",
              "      <td>77</td>\n",
              "      <td>84</td>\n",
              "      <td>78</td>\n",
              "    </tr>\n",
              "    <tr>\n",
              "      <th>North</th>\n",
              "      <td>156</td>\n",
              "      <td>150</td>\n",
              "      <td>142</td>\n",
              "      <td>133</td>\n",
              "      <td>138</td>\n",
              "      <td>142</td>\n",
              "      <td>125</td>\n",
              "      <td>107</td>\n",
              "      <td>102</td>\n",
              "      <td>103</td>\n",
              "      <td>102</td>\n",
              "      <td>106</td>\n",
              "      <td>106</td>\n",
              "      <td>117</td>\n",
              "      <td>125</td>\n",
              "      <td>131</td>\n",
              "      <td>126</td>\n",
              "      <td>133</td>\n",
              "      <td>141</td>\n",
              "      <td>125</td>\n",
              "      <td>134</td>\n",
              "      <td>132</td>\n",
              "      <td>135</td>\n",
              "      <td>139</td>\n",
              "      <td>130</td>\n",
              "    </tr>\n",
              "  </tbody>\n",
              "</table>\n",
              "</div>"
            ],
            "text/plain": [
              "      1990 1991 1992 1993 1994 1995 1996  ... 2008 2009 2010 2011 2012 2013 2014\n",
              "South   64   51   49   60   41   55   52  ...   56   56   65   78   77   84   78\n",
              "North  156  150  142  133  138  142  125  ...  141  125  134  132  135  139  130\n",
              "\n",
              "[2 rows x 25 columns]"
            ]
          },
          "metadata": {
            "tags": []
          },
          "execution_count": 38
        }
      ]
    },
    {
      "cell_type": "code",
      "metadata": {
        "id": "oWGyH0r7EGt1"
      },
      "source": [
        "df_water = df_water.transpose()"
      ],
      "execution_count": 39,
      "outputs": []
    },
    {
      "cell_type": "code",
      "metadata": {
        "colab": {
          "base_uri": "https://localhost:8080/",
          "height": 284
        },
        "id": "YFt8RavNEt0x",
        "outputId": "7ab9028a-7752-44fd-e7c5-8fc1c2552b6b"
      },
      "source": [
        "df_water.plot()"
      ],
      "execution_count": 40,
      "outputs": [
        {
          "output_type": "execute_result",
          "data": {
            "text/plain": [
              "<matplotlib.axes._subplots.AxesSubplot at 0x7f88792dc6d0>"
            ]
          },
          "metadata": {
            "tags": []
          },
          "execution_count": 40
        },
        {
          "output_type": "display_data",
          "data": {
            "image/png": "[encoded data removed]",
            "text/plain": [
              "<Figure size 432x288 with 1 Axes>"
            ]
          },
          "metadata": {
            "tags": [],
            "needs_background": "light"
          }
        }
      ]
    },
    {
      "cell_type": "code",
      "metadata": {
        "id": "CPs8OyNkEvf6"
      },
      "source": [
        ""
      ],
      "execution_count": null,
      "outputs": []
    }
  ]
}